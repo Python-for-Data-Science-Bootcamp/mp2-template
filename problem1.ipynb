{
 "cells": [
  {
   "cell_type": "markdown",
   "metadata": {},
   "source": [
    "Before you turn this problem in, make sure everything runs as expected. First, **restart the kernel** (in the menubar, select Kernel$\\rightarrow$Restart) and then **run all cells** (in the menubar, select Cell$\\rightarrow$Run All).\n",
    "\n",
    "Make sure you fill in any place that says `YOUR CODE HERE` or \"YOUR ANSWER HERE\", as well as your name and collaborators below:"
   ]
  },
  {
   "cell_type": "code",
   "execution_count": null,
   "metadata": {},
   "outputs": [],
   "source": [
    "NAME = \"\"\n",
    "COLLABORATORS = \"\""
   ]
  },
  {
   "cell_type": "markdown",
   "metadata": {},
   "source": [
    "---"
   ]
  },
  {
   "cell_type": "markdown",
   "metadata": {
    "deletable": false,
    "editable": false,
    "nbgrader": {
     "cell_type": "markdown",
     "checksum": "99399a0a70727b8b17c4dc187899c868",
     "grade": false,
     "grade_id": "jupyter",
     "locked": true,
     "schema_version": 3,
     "solution": false
    }
   },
   "source": [
    "## Python for Data Science Bootcamp\n",
    "## Mini Project 2\n",
    "\n",
    "NOTE: This mini project has 4 problems.  Please write your code in the designated portion of the autograded answer cell.\n",
    "\n",
    "For this problem set, we'll be using the Jupyter notebook and nbgrader:\n",
    "\n",
    "![](jupyter.png)\n",
    "\n",
    "©2020 Luis Morales. All rights reserved. "
   ]
  },
  {
   "cell_type": "markdown",
   "metadata": {},
   "source": [
    "## Problem 1 (1 point)\n",
    "\n",
    "Create a function that given a numpy array with dtype is int, calculates how many even numbers exist between 5 and 15.\n",
    "\n",
    "For example:\n",
    "\n",
    "input: array([[ 2, 5, 1, 4, 9], [ 5, 2, 1, 17, 14], [ 9, 16, 18, 9, 11], [13, 10, 17, 18, 6], [ 7, 11, 7, 1, 4]])\n",
    "\n",
    "output: 3\n",
    "\n",
    "Hint: You could solve this problem with one line code."
   ]
  },
  {
   "cell_type": "code",
   "execution_count": null,
   "metadata": {
    "deletable": false,
    "nbgrader": {
     "cell_type": "code",
     "checksum": "205ab62679aa918dbc2250a819c8ed32",
     "grade": false,
     "grade_id": "cell-e82b71177043f4b7",
     "locked": false,
     "schema_version": 3,
     "solution": true,
     "task": false
    }
   },
   "outputs": [],
   "source": [
    "import numpy as np\n",
    "def myfunction(A):\n",
    "    # YOUR CODE HERE\n",
    "    raise NotImplementedError()"
   ]
  },
  {
   "cell_type": "code",
   "execution_count": null,
   "metadata": {
    "deletable": false,
    "editable": false,
    "nbgrader": {
     "cell_type": "code",
     "checksum": "b85bd1689632c7d5b2b43d6755082357",
     "grade": true,
     "grade_id": "cell-b2de657ead8543f2",
     "locked": true,
     "points": 1,
     "schema_version": 3,
     "solution": false,
     "task": false
    }
   },
   "outputs": [],
   "source": [
    "import numpy as np\n",
    "rng = np.random.RandomState(12345)\n",
    "assert myfunction(rng.randint(0,20,(5,5)))==3\n",
    "rng = np.random.RandomState(12345)\n",
    "assert myfunction(rng.randint(0,20,(1,5)))==0\n",
    "rng = np.random.RandomState(12345)\n",
    "assert myfunction(rng.randint(0,20,(5,1)))==0\n",
    "rng = np.random.RandomState(12345)\n",
    "assert myfunction(rng.randint(0,20,(6,3)))==2\n",
    "rng = np.random.RandomState(12345)\n",
    "assert myfunction(rng.randint(0,20,(2,4)))==0\n",
    "rng = np.random.RandomState(12345)\n",
    "assert myfunction(rng.randint(0,20,(10,10)))==25"
   ]
  },
  {
   "attachments": {
    "image.png": {
     "image/png": "[encoded data removed]"
    }
   },
   "cell_type": "markdown",
   "metadata": {},
   "source": [
    "## Problem 2 (1 point)\n",
    "\n",
    "Create a function that calculates and returns the percentage of home teams that won the finals when there are greater or equal to 16 participating teams.\n",
    "\n",
    "\\\\( \\frac{\\text{how many times home teams that won the finals when there are greater or equal to 16 participating teams}}{\\text{how many world cups when there are greater or equal to 16 participating teams}} \\\\)\n",
    "\n",
    "\n",
    "Instruction to read data from file:\n",
    "\n",
    "pd.read_csv('WorldCups.csv')\n",
    "\n",
    "Please see sample of file structure below:\n",
    "![image.png](attachment:image.png)"
   ]
  },
  {
   "cell_type": "code",
   "execution_count": null,
   "metadata": {
    "deletable": false,
    "nbgrader": {
     "cell_type": "code",
     "checksum": "3c1030d38eccf3fe4bb55cd7709730c4",
     "grade": false,
     "grade_id": "cell-6cdaa2346a4d2ac2",
     "locked": false,
     "schema_version": 3,
     "solution": true,
     "task": false
    }
   },
   "outputs": [],
   "source": [
    "import numpy as np\n",
    "import pandas as pd\n",
    "def myfunction():\n",
    "    # YOUR CODE HERE\n",
    "    raise NotImplementedError()"
   ]
  },
  {
   "cell_type": "code",
   "execution_count": null,
   "metadata": {
    "deletable": false,
    "editable": false,
    "nbgrader": {
     "cell_type": "code",
     "checksum": "d6d55c59cb393be82af352dad0430dfc",
     "grade": true,
     "grade_id": "cell-6e47ad550a564917",
     "locked": true,
     "points": 1,
     "schema_version": 3,
     "solution": false,
     "task": false
    }
   },
   "outputs": [],
   "source": [
    "assert abs(myfunction()-0.235)<0.01"
   ]
  },
  {
   "cell_type": "markdown",
   "metadata": {},
   "source": [
    "## Problem 3 (1 point)\n",
    "\n",
    "Create a function that loads the file WorldCups.csv, and returns the code for the country that hosted the FIFA would cup with the highest attendance  "
   ]
  },
  {
   "cell_type": "code",
   "execution_count": null,
   "metadata": {
    "deletable": false,
    "nbgrader": {
     "cell_type": "code",
     "checksum": "9384664a2310a4bfb8b854803b8b3a81",
     "grade": false,
     "grade_id": "attend",
     "locked": false,
     "schema_version": 3,
     "solution": true,
     "task": false
    }
   },
   "outputs": [],
   "source": [
    "import numpy as np\n",
    "import pandas as pd\n",
    "def myfunction():\n",
    "\n",
    "    # YOUR CODE HERE\n",
    "    raise NotImplementedError()"
   ]
  },
  {
   "cell_type": "code",
   "execution_count": null,
   "metadata": {
    "deletable": false,
    "editable": false,
    "nbgrader": {
     "cell_type": "code",
     "checksum": "088e2d9954d07a53ea36a722d591348b",
     "grade": true,
     "grade_id": "attendtest",
     "locked": true,
     "points": 1,
     "schema_version": 3,
     "solution": false,
     "task": false
    }
   },
   "outputs": [],
   "source": [
    "assert myfunction()=='USA'"
   ]
  },
  {
   "cell_type": "markdown",
   "metadata": {
    "deletable": false,
    "editable": false,
    "nbgrader": {
     "cell_type": "markdown",
     "checksum": "09a3a544c5f2e087ea036419b089c03c",
     "grade": false,
     "grade_id": "cell-7b7b8b2b7e456082",
     "locked": true,
     "schema_version": 3,
     "solution": false,
     "task": false
    }
   },
   "source": [
    "## Problem 4 (1 point)\n",
    "\n",
    "Create a function that loads the file loads the file WorldCupMatches.csv, and returns the ratio of home team win.\n",
    "\n",
    "Hint: You need to drop duplicate lines"
   ]
  },
  {
   "cell_type": "code",
   "execution_count": null,
   "metadata": {
    "deletable": false,
    "nbgrader": {
     "cell_type": "code",
     "checksum": "5ea573337718d1d9ca4e666ae9b14d4a",
     "grade": false,
     "grade_id": "wins",
     "locked": false,
     "schema_version": 3,
     "solution": true
    }
   },
   "outputs": [],
   "source": [
    "import numpy as np\n",
    "import pandas as pd\n",
    "def myfunction():\n",
    "\n",
    "    # YOUR CODE HERE\n",
    "    raise NotImplementedError()"
   ]
  },
  {
   "cell_type": "code",
   "execution_count": null,
   "metadata": {
    "deletable": false,
    "editable": false,
    "nbgrader": {
     "cell_type": "code",
     "checksum": "6ce552ab3a164b3d853fe06e58580414",
     "grade": true,
     "grade_id": "winstest",
     "locked": false,
     "points": 1,
     "schema_version": 3,
     "solution": false
    }
   },
   "outputs": [],
   "source": [
    "assert abs(myfunction()-0.572)<0.01"
   ]
  }
 ],
 "metadata": {
  "kernelspec": {
   "display_name": "Python 3",
   "language": "python",
   "name": "python3"
  },
  "language_info": {
   "codemirror_mode": {
    "name": "ipython",
    "version": 3
   },
   "file_extension": ".py",
   "mimetype": "text/x-python",
   "name": "python",
   "nbconvert_exporter": "python",
   "pygments_lexer": "ipython3",
   "version": "3.7.4"
  }
 },
 "nbformat": 4,
 "nbformat_minor": 1
}
